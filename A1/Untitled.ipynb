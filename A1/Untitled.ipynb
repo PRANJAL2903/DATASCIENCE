{
 "cells": [
  {
   "cell_type": "code",
   "execution_count": 1,
   "id": "242b517e-15d4-4366-aba8-1324a0ba54cc",
   "metadata": {},
   "outputs": [],
   "source": [
    "import numpy as np\n",
    "import pandas as pd"
   ]
  },
  {
   "cell_type": "markdown",
   "id": "b0f4488f-aacd-4bf4-95f1-1a49d2382330",
   "metadata": {},
   "source": [
    "# pandas"
   ]
  },
  {
   "cell_type": "code",
   "execution_count": 10,
   "id": "96ab8a77-23c7-420d-9de3-01c63cb8915b",
   "metadata": {},
   "outputs": [
    {
     "data": {
      "text/html": [
       "<div>\n",
       "<style scoped>\n",
       "    .dataframe tbody tr th:only-of-type {\n",
       "        vertical-align: middle;\n",
       "    }\n",
       "\n",
       "    .dataframe tbody tr th {\n",
       "        vertical-align: top;\n",
       "    }\n",
       "\n",
       "    .dataframe thead th {\n",
       "        text-align: right;\n",
       "    }\n",
       "</style>\n",
       "<table border=\"1\" class=\"dataframe\">\n",
       "  <thead>\n",
       "    <tr style=\"text-align: right;\">\n",
       "      <th></th>\n",
       "      <th>Province/State</th>\n",
       "      <th>Country/Region</th>\n",
       "      <th>Lat</th>\n",
       "      <th>Long</th>\n",
       "      <th>Date</th>\n",
       "      <th>Confirmed</th>\n",
       "      <th>Deaths</th>\n",
       "      <th>Recovered</th>\n",
       "      <th>Active</th>\n",
       "      <th>WHO Region</th>\n",
       "    </tr>\n",
       "  </thead>\n",
       "  <tbody>\n",
       "    <tr>\n",
       "      <th>0</th>\n",
       "      <td>NaN</td>\n",
       "      <td>Afghanistan</td>\n",
       "      <td>33.939110</td>\n",
       "      <td>67.709953</td>\n",
       "      <td>2020-01-22</td>\n",
       "      <td>0</td>\n",
       "      <td>0</td>\n",
       "      <td>0</td>\n",
       "      <td>0</td>\n",
       "      <td>Eastern Mediterranean</td>\n",
       "    </tr>\n",
       "    <tr>\n",
       "      <th>1</th>\n",
       "      <td>NaN</td>\n",
       "      <td>Albania</td>\n",
       "      <td>41.153300</td>\n",
       "      <td>20.168300</td>\n",
       "      <td>2020-01-22</td>\n",
       "      <td>0</td>\n",
       "      <td>0</td>\n",
       "      <td>0</td>\n",
       "      <td>0</td>\n",
       "      <td>Europe</td>\n",
       "    </tr>\n",
       "    <tr>\n",
       "      <th>2</th>\n",
       "      <td>NaN</td>\n",
       "      <td>Algeria</td>\n",
       "      <td>28.033900</td>\n",
       "      <td>1.659600</td>\n",
       "      <td>2020-01-22</td>\n",
       "      <td>0</td>\n",
       "      <td>0</td>\n",
       "      <td>0</td>\n",
       "      <td>0</td>\n",
       "      <td>Africa</td>\n",
       "    </tr>\n",
       "    <tr>\n",
       "      <th>3</th>\n",
       "      <td>NaN</td>\n",
       "      <td>Andorra</td>\n",
       "      <td>42.506300</td>\n",
       "      <td>1.521800</td>\n",
       "      <td>2020-01-22</td>\n",
       "      <td>0</td>\n",
       "      <td>0</td>\n",
       "      <td>0</td>\n",
       "      <td>0</td>\n",
       "      <td>Europe</td>\n",
       "    </tr>\n",
       "    <tr>\n",
       "      <th>4</th>\n",
       "      <td>NaN</td>\n",
       "      <td>Angola</td>\n",
       "      <td>-11.202700</td>\n",
       "      <td>17.873900</td>\n",
       "      <td>2020-01-22</td>\n",
       "      <td>0</td>\n",
       "      <td>0</td>\n",
       "      <td>0</td>\n",
       "      <td>0</td>\n",
       "      <td>Africa</td>\n",
       "    </tr>\n",
       "    <tr>\n",
       "      <th>...</th>\n",
       "      <td>...</td>\n",
       "      <td>...</td>\n",
       "      <td>...</td>\n",
       "      <td>...</td>\n",
       "      <td>...</td>\n",
       "      <td>...</td>\n",
       "      <td>...</td>\n",
       "      <td>...</td>\n",
       "      <td>...</td>\n",
       "      <td>...</td>\n",
       "    </tr>\n",
       "    <tr>\n",
       "      <th>214889</th>\n",
       "      <td>NaN</td>\n",
       "      <td>West Bank and Gaza</td>\n",
       "      <td>31.952200</td>\n",
       "      <td>35.233200</td>\n",
       "      <td>2022-03-04</td>\n",
       "      <td>649971</td>\n",
       "      <td>5557</td>\n",
       "      <td>0</td>\n",
       "      <td>644414</td>\n",
       "      <td>Eastern Mediterranean</td>\n",
       "    </tr>\n",
       "    <tr>\n",
       "      <th>214890</th>\n",
       "      <td>NaN</td>\n",
       "      <td>Winter Olympics 2022</td>\n",
       "      <td>39.904200</td>\n",
       "      <td>116.407400</td>\n",
       "      <td>2022-03-04</td>\n",
       "      <td>530</td>\n",
       "      <td>0</td>\n",
       "      <td>0</td>\n",
       "      <td>530</td>\n",
       "      <td>NaN</td>\n",
       "    </tr>\n",
       "    <tr>\n",
       "      <th>214891</th>\n",
       "      <td>NaN</td>\n",
       "      <td>Yemen</td>\n",
       "      <td>15.552727</td>\n",
       "      <td>48.516388</td>\n",
       "      <td>2022-03-04</td>\n",
       "      <td>11774</td>\n",
       "      <td>2135</td>\n",
       "      <td>0</td>\n",
       "      <td>9639</td>\n",
       "      <td>Eastern Mediterranean</td>\n",
       "    </tr>\n",
       "    <tr>\n",
       "      <th>214892</th>\n",
       "      <td>NaN</td>\n",
       "      <td>Zambia</td>\n",
       "      <td>-13.133897</td>\n",
       "      <td>27.849332</td>\n",
       "      <td>2022-03-04</td>\n",
       "      <td>313613</td>\n",
       "      <td>3958</td>\n",
       "      <td>0</td>\n",
       "      <td>309655</td>\n",
       "      <td>Africa</td>\n",
       "    </tr>\n",
       "    <tr>\n",
       "      <th>214893</th>\n",
       "      <td>NaN</td>\n",
       "      <td>Zimbabwe</td>\n",
       "      <td>-19.015438</td>\n",
       "      <td>29.154857</td>\n",
       "      <td>2022-03-04</td>\n",
       "      <td>238739</td>\n",
       "      <td>5397</td>\n",
       "      <td>0</td>\n",
       "      <td>233342</td>\n",
       "      <td>Africa</td>\n",
       "    </tr>\n",
       "  </tbody>\n",
       "</table>\n",
       "<p>214894 rows × 10 columns</p>\n",
       "</div>"
      ],
      "text/plain": [
       "       Province/State        Country/Region        Lat        Long  \\\n",
       "0                 NaN           Afghanistan  33.939110   67.709953   \n",
       "1                 NaN               Albania  41.153300   20.168300   \n",
       "2                 NaN               Algeria  28.033900    1.659600   \n",
       "3                 NaN               Andorra  42.506300    1.521800   \n",
       "4                 NaN                Angola -11.202700   17.873900   \n",
       "...               ...                   ...        ...         ...   \n",
       "214889            NaN    West Bank and Gaza  31.952200   35.233200   \n",
       "214890            NaN  Winter Olympics 2022  39.904200  116.407400   \n",
       "214891            NaN                 Yemen  15.552727   48.516388   \n",
       "214892            NaN                Zambia -13.133897   27.849332   \n",
       "214893            NaN              Zimbabwe -19.015438   29.154857   \n",
       "\n",
       "              Date  Confirmed  Deaths  Recovered  Active  \\\n",
       "0       2020-01-22          0       0          0       0   \n",
       "1       2020-01-22          0       0          0       0   \n",
       "2       2020-01-22          0       0          0       0   \n",
       "3       2020-01-22          0       0          0       0   \n",
       "4       2020-01-22          0       0          0       0   \n",
       "...            ...        ...     ...        ...     ...   \n",
       "214889  2022-03-04     649971    5557          0  644414   \n",
       "214890  2022-03-04        530       0          0     530   \n",
       "214891  2022-03-04      11774    2135          0    9639   \n",
       "214892  2022-03-04     313613    3958          0  309655   \n",
       "214893  2022-03-04     238739    5397          0  233342   \n",
       "\n",
       "                   WHO Region  \n",
       "0       Eastern Mediterranean  \n",
       "1                      Europe  \n",
       "2                      Africa  \n",
       "3                      Europe  \n",
       "4                      Africa  \n",
       "...                       ...  \n",
       "214889  Eastern Mediterranean  \n",
       "214890                    NaN  \n",
       "214891  Eastern Mediterranean  \n",
       "214892                 Africa  \n",
       "214893                 Africa  \n",
       "\n",
       "[214894 rows x 10 columns]"
      ]
     },
     "execution_count": 10,
     "metadata": {},
     "output_type": "execute_result"
    }
   ],
   "source": [
    "cd=pd.read_csv('covid_19_clean_complete_2022.csv')\n",
    "cd"
   ]
  },
  {
   "cell_type": "code",
   "execution_count": 11,
   "id": "557bb04d-a10c-4fe4-a896-1a89faa15570",
   "metadata": {},
   "outputs": [
    {
     "name": "stdout",
     "output_type": "stream",
     "text": [
      "<class 'pandas.core.frame.DataFrame'>\n",
      "RangeIndex: 214894 entries, 0 to 214893\n",
      "Data columns (total 10 columns):\n",
      " #   Column          Non-Null Count   Dtype  \n",
      "---  ------          --------------   -----  \n",
      " 0   Province/State  65705 non-null   object \n",
      " 1   Country/Region  214894 non-null  object \n",
      " 2   Lat             213348 non-null  float64\n",
      " 3   Long            213348 non-null  float64\n",
      " 4   Date            214894 non-null  object \n",
      " 5   Confirmed       214894 non-null  int64  \n",
      " 6   Deaths          214894 non-null  int64  \n",
      " 7   Recovered       214894 non-null  int64  \n",
      " 8   Active          214894 non-null  int64  \n",
      " 9   WHO Region      212575 non-null  object \n",
      "dtypes: float64(2), int64(4), object(4)\n",
      "memory usage: 16.4+ MB\n"
     ]
    }
   ],
   "source": [
    "cd.info()"
   ]
  },
  {
   "cell_type": "code",
   "execution_count": 14,
   "id": "8eae240b-3eb7-4d72-8193-3dd028b8a071",
   "metadata": {},
   "outputs": [
    {
     "data": {
      "text/plain": [
       "(214894, 10)"
      ]
     },
     "execution_count": 14,
     "metadata": {},
     "output_type": "execute_result"
    }
   ],
   "source": [
    "cd.shape"
   ]
  },
  {
   "cell_type": "code",
   "execution_count": 15,
   "id": "f0a114b4-57f3-43c3-bd0a-5de2a1325c92",
   "metadata": {},
   "outputs": [
    {
     "data": {
      "text/plain": [
       "<bound method NDFrame.describe of        Province/State        Country/Region        Lat        Long  \\\n",
       "0                 NaN           Afghanistan  33.939110   67.709953   \n",
       "1                 NaN               Albania  41.153300   20.168300   \n",
       "2                 NaN               Algeria  28.033900    1.659600   \n",
       "3                 NaN               Andorra  42.506300    1.521800   \n",
       "4                 NaN                Angola -11.202700   17.873900   \n",
       "...               ...                   ...        ...         ...   \n",
       "214889            NaN    West Bank and Gaza  31.952200   35.233200   \n",
       "214890            NaN  Winter Olympics 2022  39.904200  116.407400   \n",
       "214891            NaN                 Yemen  15.552727   48.516388   \n",
       "214892            NaN                Zambia -13.133897   27.849332   \n",
       "214893            NaN              Zimbabwe -19.015438   29.154857   \n",
       "\n",
       "              Date  Confirmed  Deaths  Recovered  Active  \\\n",
       "0       2020-01-22          0       0          0       0   \n",
       "1       2020-01-22          0       0          0       0   \n",
       "2       2020-01-22          0       0          0       0   \n",
       "3       2020-01-22          0       0          0       0   \n",
       "4       2020-01-22          0       0          0       0   \n",
       "...            ...        ...     ...        ...     ...   \n",
       "214889  2022-03-04     649971    5557          0  644414   \n",
       "214890  2022-03-04        530       0          0     530   \n",
       "214891  2022-03-04      11774    2135          0    9639   \n",
       "214892  2022-03-04     313613    3958          0  309655   \n",
       "214893  2022-03-04     238739    5397          0  233342   \n",
       "\n",
       "                   WHO Region  \n",
       "0       Eastern Mediterranean  \n",
       "1                      Europe  \n",
       "2                      Africa  \n",
       "3                      Europe  \n",
       "4                      Africa  \n",
       "...                       ...  \n",
       "214889  Eastern Mediterranean  \n",
       "214890                    NaN  \n",
       "214891  Eastern Mediterranean  \n",
       "214892                 Africa  \n",
       "214893                 Africa  \n",
       "\n",
       "[214894 rows x 10 columns]>"
      ]
     },
     "execution_count": 15,
     "metadata": {},
     "output_type": "execute_result"
    }
   ],
   "source": [
    "cd.describe"
   ]
  },
  {
   "cell_type": "code",
   "execution_count": 17,
   "id": "e8b20e25-784f-4525-a0af-8b246ab20f9b",
   "metadata": {},
   "outputs": [
    {
     "data": {
      "text/html": [
       "<div>\n",
       "<style scoped>\n",
       "    .dataframe tbody tr th:only-of-type {\n",
       "        vertical-align: middle;\n",
       "    }\n",
       "\n",
       "    .dataframe tbody tr th {\n",
       "        vertical-align: top;\n",
       "    }\n",
       "\n",
       "    .dataframe thead th {\n",
       "        text-align: right;\n",
       "    }\n",
       "</style>\n",
       "<table border=\"1\" class=\"dataframe\">\n",
       "  <thead>\n",
       "    <tr style=\"text-align: right;\">\n",
       "      <th></th>\n",
       "      <th>Province/State</th>\n",
       "      <th>Country/Region</th>\n",
       "      <th>Lat</th>\n",
       "      <th>Long</th>\n",
       "      <th>Date</th>\n",
       "      <th>Confirmed</th>\n",
       "      <th>Deaths</th>\n",
       "      <th>Recovered</th>\n",
       "      <th>Active</th>\n",
       "      <th>WHO Region</th>\n",
       "    </tr>\n",
       "  </thead>\n",
       "  <tbody>\n",
       "    <tr>\n",
       "      <th>0</th>\n",
       "      <td>NaN</td>\n",
       "      <td>Afghanistan</td>\n",
       "      <td>33.93911</td>\n",
       "      <td>67.709953</td>\n",
       "      <td>2020-01-22</td>\n",
       "      <td>0</td>\n",
       "      <td>0</td>\n",
       "      <td>0</td>\n",
       "      <td>0</td>\n",
       "      <td>Eastern Mediterranean</td>\n",
       "    </tr>\n",
       "    <tr>\n",
       "      <th>1</th>\n",
       "      <td>NaN</td>\n",
       "      <td>Albania</td>\n",
       "      <td>41.15330</td>\n",
       "      <td>20.168300</td>\n",
       "      <td>2020-01-22</td>\n",
       "      <td>0</td>\n",
       "      <td>0</td>\n",
       "      <td>0</td>\n",
       "      <td>0</td>\n",
       "      <td>Europe</td>\n",
       "    </tr>\n",
       "    <tr>\n",
       "      <th>2</th>\n",
       "      <td>NaN</td>\n",
       "      <td>Algeria</td>\n",
       "      <td>28.03390</td>\n",
       "      <td>1.659600</td>\n",
       "      <td>2020-01-22</td>\n",
       "      <td>0</td>\n",
       "      <td>0</td>\n",
       "      <td>0</td>\n",
       "      <td>0</td>\n",
       "      <td>Africa</td>\n",
       "    </tr>\n",
       "    <tr>\n",
       "      <th>3</th>\n",
       "      <td>NaN</td>\n",
       "      <td>Andorra</td>\n",
       "      <td>42.50630</td>\n",
       "      <td>1.521800</td>\n",
       "      <td>2020-01-22</td>\n",
       "      <td>0</td>\n",
       "      <td>0</td>\n",
       "      <td>0</td>\n",
       "      <td>0</td>\n",
       "      <td>Europe</td>\n",
       "    </tr>\n",
       "    <tr>\n",
       "      <th>4</th>\n",
       "      <td>NaN</td>\n",
       "      <td>Angola</td>\n",
       "      <td>-11.20270</td>\n",
       "      <td>17.873900</td>\n",
       "      <td>2020-01-22</td>\n",
       "      <td>0</td>\n",
       "      <td>0</td>\n",
       "      <td>0</td>\n",
       "      <td>0</td>\n",
       "      <td>Africa</td>\n",
       "    </tr>\n",
       "    <tr>\n",
       "      <th>5</th>\n",
       "      <td>NaN</td>\n",
       "      <td>Antarctica</td>\n",
       "      <td>-71.94990</td>\n",
       "      <td>23.347000</td>\n",
       "      <td>2020-01-22</td>\n",
       "      <td>0</td>\n",
       "      <td>0</td>\n",
       "      <td>0</td>\n",
       "      <td>0</td>\n",
       "      <td>NaN</td>\n",
       "    </tr>\n",
       "    <tr>\n",
       "      <th>6</th>\n",
       "      <td>NaN</td>\n",
       "      <td>Antigua and Barbuda</td>\n",
       "      <td>17.06080</td>\n",
       "      <td>-61.796400</td>\n",
       "      <td>2020-01-22</td>\n",
       "      <td>0</td>\n",
       "      <td>0</td>\n",
       "      <td>0</td>\n",
       "      <td>0</td>\n",
       "      <td>Americas</td>\n",
       "    </tr>\n",
       "    <tr>\n",
       "      <th>7</th>\n",
       "      <td>NaN</td>\n",
       "      <td>Argentina</td>\n",
       "      <td>-38.41610</td>\n",
       "      <td>-63.616700</td>\n",
       "      <td>2020-01-22</td>\n",
       "      <td>0</td>\n",
       "      <td>0</td>\n",
       "      <td>0</td>\n",
       "      <td>0</td>\n",
       "      <td>Americas</td>\n",
       "    </tr>\n",
       "    <tr>\n",
       "      <th>8</th>\n",
       "      <td>NaN</td>\n",
       "      <td>Armenia</td>\n",
       "      <td>40.06910</td>\n",
       "      <td>45.038200</td>\n",
       "      <td>2020-01-22</td>\n",
       "      <td>0</td>\n",
       "      <td>0</td>\n",
       "      <td>0</td>\n",
       "      <td>0</td>\n",
       "      <td>Europe</td>\n",
       "    </tr>\n",
       "    <tr>\n",
       "      <th>9</th>\n",
       "      <td>Australian Capital Territory</td>\n",
       "      <td>Australia</td>\n",
       "      <td>-35.47350</td>\n",
       "      <td>149.012400</td>\n",
       "      <td>2020-01-22</td>\n",
       "      <td>0</td>\n",
       "      <td>0</td>\n",
       "      <td>0</td>\n",
       "      <td>0</td>\n",
       "      <td>Western Pacific</td>\n",
       "    </tr>\n",
       "  </tbody>\n",
       "</table>\n",
       "</div>"
      ],
      "text/plain": [
       "                 Province/State       Country/Region       Lat        Long  \\\n",
       "0                           NaN          Afghanistan  33.93911   67.709953   \n",
       "1                           NaN              Albania  41.15330   20.168300   \n",
       "2                           NaN              Algeria  28.03390    1.659600   \n",
       "3                           NaN              Andorra  42.50630    1.521800   \n",
       "4                           NaN               Angola -11.20270   17.873900   \n",
       "5                           NaN           Antarctica -71.94990   23.347000   \n",
       "6                           NaN  Antigua and Barbuda  17.06080  -61.796400   \n",
       "7                           NaN            Argentina -38.41610  -63.616700   \n",
       "8                           NaN              Armenia  40.06910   45.038200   \n",
       "9  Australian Capital Territory            Australia -35.47350  149.012400   \n",
       "\n",
       "         Date  Confirmed  Deaths  Recovered  Active             WHO Region  \n",
       "0  2020-01-22          0       0          0       0  Eastern Mediterranean  \n",
       "1  2020-01-22          0       0          0       0                 Europe  \n",
       "2  2020-01-22          0       0          0       0                 Africa  \n",
       "3  2020-01-22          0       0          0       0                 Europe  \n",
       "4  2020-01-22          0       0          0       0                 Africa  \n",
       "5  2020-01-22          0       0          0       0                    NaN  \n",
       "6  2020-01-22          0       0          0       0               Americas  \n",
       "7  2020-01-22          0       0          0       0               Americas  \n",
       "8  2020-01-22          0       0          0       0                 Europe  \n",
       "9  2020-01-22          0       0          0       0        Western Pacific  "
      ]
     },
     "execution_count": 17,
     "metadata": {},
     "output_type": "execute_result"
    }
   ],
   "source": [
    "cd.head(10)"
   ]
  },
  {
   "cell_type": "markdown",
   "id": "80d64118-8c1f-4a49-b441-d5539547a332",
   "metadata": {},
   "source": [
    "# Numpy"
   ]
  },
  {
   "cell_type": "code",
   "execution_count": 19,
   "id": "eb230474-54a7-460e-b811-146cadeb426b",
   "metadata": {},
   "outputs": [
    {
     "data": {
      "text/plain": [
       "array([1, 2, 3, 4])"
      ]
     },
     "execution_count": 19,
     "metadata": {},
     "output_type": "execute_result"
    }
   ],
   "source": [
    "arr=np.array([1,2,3,4,])\n",
    "arr"
   ]
  },
  {
   "cell_type": "code",
   "execution_count": 22,
   "id": "c527d6cf-482e-4b58-ba22-eea4e83beafe",
   "metadata": {},
   "outputs": [
    {
     "data": {
      "text/plain": [
       "array([0, 1, 2, 3, 4, 5, 6, 7, 8, 9])"
      ]
     },
     "execution_count": 22,
     "metadata": {},
     "output_type": "execute_result"
    }
   ],
   "source": [
    "arr1=np.array(range(10))\n",
    "arr1"
   ]
  },
  {
   "cell_type": "code",
   "execution_count": 23,
   "id": "b8820226-728c-4ab0-b939-e52194f79de5",
   "metadata": {},
   "outputs": [
    {
     "data": {
      "text/plain": [
       "array([2, 4, 6, 8])"
      ]
     },
     "execution_count": 23,
     "metadata": {},
     "output_type": "execute_result"
    }
   ],
   "source": [
    "arr1=np.arange(2,10,2)\n",
    "arr1"
   ]
  },
  {
   "cell_type": "code",
   "execution_count": 24,
   "id": "5d27274e-e0ee-4b42-8c89-06054d22c7b8",
   "metadata": {},
   "outputs": [
    {
     "data": {
      "text/plain": [
       "array([[0.02540493, 0.79652347, 0.68188464, 0.68859866, 0.06036764],\n",
       "       [0.55136892, 0.17228639, 0.63852952, 0.47635603, 0.90068471],\n",
       "       [0.28765402, 0.64924793, 0.21532248, 0.54221107, 0.06448224],\n",
       "       [0.41821839, 0.97249595, 0.21048608, 0.80935208, 0.66763802],\n",
       "       [0.20062477, 0.64408759, 0.24537289, 0.75766884, 0.37909383]])"
      ]
     },
     "execution_count": 24,
     "metadata": {},
     "output_type": "execute_result"
    }
   ],
   "source": [
    "arr1 = np.random.rand(5,5)\n",
    "arr1"
   ]
  },
  {
   "cell_type": "code",
   "execution_count": 26,
   "id": "a04f4092-b09f-4370-9bf2-60647b940134",
   "metadata": {},
   "outputs": [
    {
     "data": {
      "text/plain": [
       "array([[1, 2, 3],\n",
       "       [4, 5, 6]])"
      ]
     },
     "execution_count": 26,
     "metadata": {},
     "output_type": "execute_result"
    }
   ],
   "source": [
    "arr = np.array([[1,2,3], [4,5,6]])\n",
    "arr"
   ]
  }
 ],
 "metadata": {
  "kernelspec": {
   "display_name": "Python 3 (ipykernel)",
   "language": "python",
   "name": "python3"
  },
  "language_info": {
   "codemirror_mode": {
    "name": "ipython",
    "version": 3
   },
   "file_extension": ".py",
   "mimetype": "text/x-python",
   "name": "python",
   "nbconvert_exporter": "python",
   "pygments_lexer": "ipython3",
   "version": "3.9.12"
  }
 },
 "nbformat": 4,
 "nbformat_minor": 5
}
