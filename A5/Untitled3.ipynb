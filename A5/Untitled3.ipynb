{
 "cells": [
  {
   "cell_type": "code",
   "execution_count": 24,
   "id": "f1ef4725-9d86-46ea-bf91-51be6e1d0e67",
   "metadata": {},
   "outputs": [
    {
     "name": "stderr",
     "output_type": "stream",
     "text": [
      "E:\\Study_Material\\anaconda\\lib\\site-packages\\scipy\\optimize\\linesearch.py:478: LineSearchWarning: The line search algorithm did not converge\n",
      "  warn('The line search algorithm did not converge', LineSearchWarning)\n",
      "E:\\Study_Material\\anaconda\\lib\\site-packages\\scipy\\optimize\\linesearch.py:327: LineSearchWarning: The line search algorithm did not converge\n",
      "  warn('The line search algorithm did not converge', LineSearchWarning)\n"
     ]
    },
    {
     "name": "stdout",
     "output_type": "stream",
     "text": [
      "Accuracy: 0.95\n",
      "              precision    recall  f1-score   support\n",
      "\n",
      "           0       0.97      0.97      0.97        32\n",
      "           1       0.88      0.88      0.88         8\n",
      "\n",
      "    accuracy                           0.95        40\n",
      "   macro avg       0.92      0.92      0.92        40\n",
      "weighted avg       0.95      0.95      0.95        40\n",
      "\n"
     ]
    }
   ],
   "source": [
    "import pandas as pd\n",
    "import numpy as np\n",
    "from sklearn.model_selection import train_test_split\n",
    "from sklearn.linear_model import LogisticRegression\n",
    "from sklearn.metrics import accuracy_score, classification_report,precision_score,recall_score,f1_score,classification_report,confusion_matrix,roc_auc_score,roc_curve,multilabel_confusion_matrix\n",
    "\n",
    "\n",
    "\n",
    "\n",
    "data = pd.read_csv('Social_Network_Ads.csv')\n",
    "\n",
    "\n",
    "X = data.iloc[:, [2, 3]].values\n",
    "\n",
    "\n",
    "y = data.iloc[:, 4].values\n",
    "\n",
    "\n",
    "X_train, X_test, y_train, y_test = train_test_split(X, y, test_size=0.1, random_state=0)\n",
    "\n",
    "\n",
    "logreg = LogisticRegression(multi_class='multinomial', solver='newton-cg')\n",
    "\n",
    "\n",
    "logreg.fit(X_train, y_train)\n",
    "\n",
    "\n",
    "y_pred = logreg.predict(X_test)\n",
    "\n",
    "\n",
    "accuracy = accuracy_score(y_test, y_pred)\n",
    "\n",
    "\n",
    "print('Accuracy:', accuracy)\n",
    "\n",
    "\n",
    "print(classification_report(y_test, y_pred))\n"
   ]
  },
  {
   "cell_type": "code",
   "execution_count": 18,
   "id": "b8667ce3-6680-4b27-a6fa-5fe07c93ecad",
   "metadata": {},
   "outputs": [
    {
     "ename": "NameError",
     "evalue": "name 'Log_Reg' is not defined",
     "output_type": "error",
     "traceback": [
      "\u001b[1;31m---------------------------------------------------------------------------\u001b[0m",
      "\u001b[1;31mNameError\u001b[0m                                 Traceback (most recent call last)",
      "Input \u001b[1;32mIn [18]\u001b[0m, in \u001b[0;36m<cell line: 1>\u001b[1;34m()\u001b[0m\n\u001b[1;32m----> 1\u001b[0m y_pred \u001b[38;5;241m=\u001b[39m \u001b[43mLog_Reg\u001b[49m\u001b[38;5;241m.\u001b[39mpredict(x_test)\n\u001b[0;32m      2\u001b[0m y_pred\n",
      "\u001b[1;31mNameError\u001b[0m: name 'Log_Reg' is not defined"
     ]
    }
   ],
   "source": []
  },
  {
   "cell_type": "code",
   "execution_count": 6,
   "id": "c87853f5-14c0-4ca5-a97b-7b6ab28298db",
   "metadata": {},
   "outputs": [
    {
     "data": {
      "text/plain": [
       "array([0, 0, 0, 0, 0, 0, 0, 1, 0, 1, 0, 0, 0, 0, 0, 0, 0, 0, 1, 0, 0, 1,\n",
       "       0, 1, 0, 1, 0, 0, 0, 0, 0, 0, 1, 0, 0, 0, 0, 0, 0, 1, 0, 0, 0, 0,\n",
       "       1, 0, 0, 1, 0, 1, 1, 0, 0, 0, 1, 0, 0, 0, 0, 0, 0, 1, 0, 0, 0, 1,\n",
       "       0, 0, 0, 0, 1, 0, 0, 0, 0, 0, 1, 0, 1, 1], dtype=int64)"
      ]
     },
     "execution_count": 6,
     "metadata": {},
     "output_type": "execute_result"
    }
   ],
   "source": [
    "y_pred"
   ]
  },
  {
   "cell_type": "code",
   "execution_count": 7,
   "id": "e4bde132-3f28-4d1f-9026-097cb9a34b01",
   "metadata": {},
   "outputs": [
    {
     "data": {
      "text/plain": [
       "array([[56,  2],\n",
       "       [ 5, 17]], dtype=int64)"
      ]
     },
     "execution_count": 7,
     "metadata": {},
     "output_type": "execute_result"
    }
   ],
   "source": [
    "cnf_matrix = confusion_matrix(y_test,y_pred)\n",
    "cnf_matrix"
   ]
  },
  {
   "cell_type": "code",
   "execution_count": 13,
   "id": "f600ef9f-c3a8-4e11-bf66-3645dbdecab5",
   "metadata": {},
   "outputs": [
    {
     "data": {
      "text/plain": [
       "array([[[17,  5],\n",
       "        [ 2, 56]],\n",
       "\n",
       "       [[56,  2],\n",
       "        [ 5, 17]]], dtype=int64)"
      ]
     },
     "execution_count": 13,
     "metadata": {},
     "output_type": "execute_result"
    }
   ],
   "source": [
    "multiclass_conf_mat = multilabel_confusion_matrix(y_test,y_pred)\n",
    "multiclass_conf_mat"
   ]
  },
  {
   "cell_type": "code",
   "execution_count": 16,
   "id": "c7ac4ffe-ea59-4c1c-9c20-32ab5f5d406f",
   "metadata": {},
   "outputs": [
    {
     "data": {
      "text/plain": [
       "0.6266666666666667"
      ]
     },
     "execution_count": 16,
     "metadata": {},
     "output_type": "execute_result"
    }
   ],
   "source": [
    "(33+14)/(33+14+2+2+5+2+17)"
   ]
  },
  {
   "cell_type": "code",
   "execution_count": 15,
   "id": "dfb65d37-22b1-422a-b16f-8827379246e1",
   "metadata": {},
   "outputs": [
    {
     "data": {
      "image/png": "[encoded data removed]",
      "text/plain": [
       "<IPython.core.display.Image object>"
      ]
     },
     "execution_count": 15,
     "metadata": {},
     "output_type": "execute_result"
    }
   ],
   "source": [
    "from IPython.display import Image\n",
    "Image('download.png')"
   ]
  },
  {
   "cell_type": "code",
   "execution_count": 20,
   "id": "5d488b4a-5df4-4f15-9a4e-f3d606e2a499",
   "metadata": {},
   "outputs": [
    {
     "data": {
      "text/plain": [
       "array([[0.8869687 , 0.1130313 ],\n",
       "       [0.83614339, 0.16385661],\n",
       "       [0.80460263, 0.19539737],\n",
       "       [0.91136643, 0.08863357],\n",
       "       [0.90550689, 0.09449311],\n",
       "       [0.99299415, 0.00700585],\n",
       "       [0.98638262, 0.01361738],\n",
       "       [0.24490249, 0.75509751],\n",
       "       [0.99463629, 0.00536371],\n",
       "       [0.49395856, 0.50604144],\n",
       "       [0.96590847, 0.03409153],\n",
       "       [0.97238544, 0.02761456],\n",
       "       [0.84169986, 0.15830014],\n",
       "       [0.62422684, 0.37577316],\n",
       "       [0.98514515, 0.01485485],\n",
       "       [0.65168475, 0.34831525],\n",
       "       [0.71659513, 0.28340487],\n",
       "       [0.98832201, 0.01167799],\n",
       "       [0.00952759, 0.99047241],\n",
       "       [0.96105874, 0.03894126],\n",
       "       [0.91383032, 0.08616968],\n",
       "       [0.03117185, 0.96882815],\n",
       "       [0.72429407, 0.27570593],\n",
       "       [0.10727236, 0.89272764],\n",
       "       [0.99602561, 0.00397439],\n",
       "       [0.02285825, 0.97714175],\n",
       "       [0.92274571, 0.07725429],\n",
       "       [0.92461028, 0.07538972],\n",
       "       [0.80759021, 0.19240979],\n",
       "       [0.84208509, 0.15791491],\n",
       "       [0.98048449, 0.01951551],\n",
       "       [0.70267364, 0.29732636],\n",
       "       [0.06302862, 0.93697138],\n",
       "       [0.85049682, 0.14950318],\n",
       "       [0.98661656, 0.01338344],\n",
       "       [0.9968691 , 0.0031309 ],\n",
       "       [0.98098422, 0.01901578],\n",
       "       [0.93741054, 0.06258946],\n",
       "       [0.97443814, 0.02556186],\n",
       "       [0.44824355, 0.55175645],\n",
       "       [0.93441161, 0.06558839],\n",
       "       [0.71749636, 0.28250364],\n",
       "       [0.94222364, 0.05777636],\n",
       "       [0.96351031, 0.03648969],\n",
       "       [0.18016927, 0.81983073],\n",
       "       [0.97515897, 0.02484103],\n",
       "       [0.69556693, 0.30443307],\n",
       "       [0.06522984, 0.93477016],\n",
       "       [0.9920466 , 0.0079534 ],\n",
       "       [0.1304394 , 0.8695606 ],\n",
       "       [0.00821286, 0.99178714],\n",
       "       [0.96492886, 0.03507114],\n",
       "       [0.88323878, 0.11676122],\n",
       "       [0.56805475, 0.43194525],\n",
       "       [0.01687035, 0.98312965],\n",
       "       [0.68299878, 0.31700122],\n",
       "       [0.91723382, 0.08276618],\n",
       "       [0.95838787, 0.04161213],\n",
       "       [0.51562478, 0.48437522],\n",
       "       [0.99696405, 0.00303595],\n",
       "       [0.98149953, 0.01850047],\n",
       "       [0.06174133, 0.93825867],\n",
       "       [0.99135745, 0.00864255],\n",
       "       [0.59733944, 0.40266056],\n",
       "       [0.99839285, 0.00160715],\n",
       "       [0.01620168, 0.98379832],\n",
       "       [0.96277688, 0.03722312],\n",
       "       [0.97515897, 0.02484103],\n",
       "       [0.78769057, 0.21230943],\n",
       "       [0.52843726, 0.47156274],\n",
       "       [0.38024907, 0.61975093],\n",
       "       [0.79376004, 0.20623996],\n",
       "       [0.98955817, 0.01044183],\n",
       "       [0.75127975, 0.24872025],\n",
       "       [0.93231033, 0.06768967],\n",
       "       [0.99142008, 0.00857992],\n",
       "       [0.4525919 , 0.5474081 ],\n",
       "       [0.70512845, 0.29487155],\n",
       "       [0.27281037, 0.72718963],\n",
       "       [0.10097092, 0.89902908]])"
      ]
     },
     "execution_count": 20,
     "metadata": {},
     "output_type": "execute_result"
    }
   ],
   "source": [
    "y_pred_prob = logreg.predict_proba(X_test)\n",
    "y_pred_prob"
   ]
  }
 ],
 "metadata": {
  "kernelspec": {
   "display_name": "Python 3 (ipykernel)",
   "language": "python",
   "name": "python3"
  },
  "language_info": {
   "codemirror_mode": {
    "name": "ipython",
    "version": 3
   },
   "file_extension": ".py",
   "mimetype": "text/x-python",
   "name": "python",
   "nbconvert_exporter": "python",
   "pygments_lexer": "ipython3",
   "version": "3.9.12"
  }
 },
 "nbformat": 4,
 "nbformat_minor": 5
}
